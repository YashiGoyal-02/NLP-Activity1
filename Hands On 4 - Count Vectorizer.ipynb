{
 "cells": [
  {
   "cell_type": "code",
   "execution_count": 2,
   "id": "3dc59640",
   "metadata": {},
   "outputs": [],
   "source": [
    "from sklearn.feature_extraction.text import CountVectorizer"
   ]
  },
  {
   "cell_type": "code",
   "execution_count": 3,
   "id": "2632e445",
   "metadata": {},
   "outputs": [],
   "source": [
    "vect = CountVectorizer(binary = True)"
   ]
  },
  {
   "cell_type": "code",
   "execution_count": 5,
   "id": "3ad008d0",
   "metadata": {},
   "outputs": [],
   "source": [
    "corpus = [\"I have a German Shepherd\", \"German Shepherd is from Germany\", \"Germans love gossiping\"]\n",
    "#3 documents which comprises of my corpus"
   ]
  },
  {
   "cell_type": "code",
   "execution_count": 6,
   "id": "78a4486a",
   "metadata": {},
   "outputs": [
    {
     "data": {
      "text/html": [
       "<style>#sk-container-id-1 {color: black;background-color: white;}#sk-container-id-1 pre{padding: 0;}#sk-container-id-1 div.sk-toggleable {background-color: white;}#sk-container-id-1 label.sk-toggleable__label {cursor: pointer;display: block;width: 100%;margin-bottom: 0;padding: 0.3em;box-sizing: border-box;text-align: center;}#sk-container-id-1 label.sk-toggleable__label-arrow:before {content: \"▸\";float: left;margin-right: 0.25em;color: #696969;}#sk-container-id-1 label.sk-toggleable__label-arrow:hover:before {color: black;}#sk-container-id-1 div.sk-estimator:hover label.sk-toggleable__label-arrow:before {color: black;}#sk-container-id-1 div.sk-toggleable__content {max-height: 0;max-width: 0;overflow: hidden;text-align: left;background-color: #f0f8ff;}#sk-container-id-1 div.sk-toggleable__content pre {margin: 0.2em;color: black;border-radius: 0.25em;background-color: #f0f8ff;}#sk-container-id-1 input.sk-toggleable__control:checked~div.sk-toggleable__content {max-height: 200px;max-width: 100%;overflow: auto;}#sk-container-id-1 input.sk-toggleable__control:checked~label.sk-toggleable__label-arrow:before {content: \"▾\";}#sk-container-id-1 div.sk-estimator input.sk-toggleable__control:checked~label.sk-toggleable__label {background-color: #d4ebff;}#sk-container-id-1 div.sk-label input.sk-toggleable__control:checked~label.sk-toggleable__label {background-color: #d4ebff;}#sk-container-id-1 input.sk-hidden--visually {border: 0;clip: rect(1px 1px 1px 1px);clip: rect(1px, 1px, 1px, 1px);height: 1px;margin: -1px;overflow: hidden;padding: 0;position: absolute;width: 1px;}#sk-container-id-1 div.sk-estimator {font-family: monospace;background-color: #f0f8ff;border: 1px dotted black;border-radius: 0.25em;box-sizing: border-box;margin-bottom: 0.5em;}#sk-container-id-1 div.sk-estimator:hover {background-color: #d4ebff;}#sk-container-id-1 div.sk-parallel-item::after {content: \"\";width: 100%;border-bottom: 1px solid gray;flex-grow: 1;}#sk-container-id-1 div.sk-label:hover label.sk-toggleable__label {background-color: #d4ebff;}#sk-container-id-1 div.sk-serial::before {content: \"\";position: absolute;border-left: 1px solid gray;box-sizing: border-box;top: 0;bottom: 0;left: 50%;z-index: 0;}#sk-container-id-1 div.sk-serial {display: flex;flex-direction: column;align-items: center;background-color: white;padding-right: 0.2em;padding-left: 0.2em;position: relative;}#sk-container-id-1 div.sk-item {position: relative;z-index: 1;}#sk-container-id-1 div.sk-parallel {display: flex;align-items: stretch;justify-content: center;background-color: white;position: relative;}#sk-container-id-1 div.sk-item::before, #sk-container-id-1 div.sk-parallel-item::before {content: \"\";position: absolute;border-left: 1px solid gray;box-sizing: border-box;top: 0;bottom: 0;left: 50%;z-index: -1;}#sk-container-id-1 div.sk-parallel-item {display: flex;flex-direction: column;z-index: 1;position: relative;background-color: white;}#sk-container-id-1 div.sk-parallel-item:first-child::after {align-self: flex-end;width: 50%;}#sk-container-id-1 div.sk-parallel-item:last-child::after {align-self: flex-start;width: 50%;}#sk-container-id-1 div.sk-parallel-item:only-child::after {width: 0;}#sk-container-id-1 div.sk-dashed-wrapped {border: 1px dashed gray;margin: 0 0.4em 0.5em 0.4em;box-sizing: border-box;padding-bottom: 0.4em;background-color: white;}#sk-container-id-1 div.sk-label label {font-family: monospace;font-weight: bold;display: inline-block;line-height: 1.2em;}#sk-container-id-1 div.sk-label-container {text-align: center;}#sk-container-id-1 div.sk-container {/* jupyter's `normalize.less` sets `[hidden] { display: none; }` but bootstrap.min.css set `[hidden] { display: none !important; }` so we also need the `!important` here to be able to override the default hidden behavior on the sphinx rendered scikit-learn.org. See: https://github.com/scikit-learn/scikit-learn/issues/21755 */display: inline-block !important;position: relative;}#sk-container-id-1 div.sk-text-repr-fallback {display: none;}</style><div id=\"sk-container-id-1\" class=\"sk-top-container\"><div class=\"sk-text-repr-fallback\"><pre>CountVectorizer(binary=True)</pre><b>In a Jupyter environment, please rerun this cell to show the HTML representation or trust the notebook. <br />On GitHub, the HTML representation is unable to render, please try loading this page with nbviewer.org.</b></div><div class=\"sk-container\" hidden><div class=\"sk-item\"><div class=\"sk-estimator sk-toggleable\"><input class=\"sk-toggleable__control sk-hidden--visually\" id=\"sk-estimator-id-1\" type=\"checkbox\" checked><label for=\"sk-estimator-id-1\" class=\"sk-toggleable__label sk-toggleable__label-arrow\">CountVectorizer</label><div class=\"sk-toggleable__content\"><pre>CountVectorizer(binary=True)</pre></div></div></div></div></div>"
      ],
      "text/plain": [
       "CountVectorizer(binary=True)"
      ]
     },
     "execution_count": 6,
     "metadata": {},
     "output_type": "execute_result"
    }
   ],
   "source": [
    "vect.fit(corpus)"
   ]
  },
  {
   "cell_type": "code",
   "execution_count": 7,
   "id": "4d557f16",
   "metadata": {},
   "outputs": [],
   "source": [
    "vocab = vect.vocabulary_"
   ]
  },
  {
   "cell_type": "code",
   "execution_count": 9,
   "id": "1349b7ec",
   "metadata": {},
   "outputs": [
    {
     "name": "stdout",
     "output_type": "stream",
     "text": [
      "have : 5\n",
      "german : 1\n",
      "shepherd : 8\n",
      "is : 6\n",
      "from : 0\n",
      "germany : 3\n",
      "germans : 2\n",
      "love : 7\n",
      "gossiping : 4\n"
     ]
    }
   ],
   "source": [
    "for key in vocab.keys():\n",
    "    print(\"{} : {}\".format(key, vocab[key]))"
   ]
  },
  {
   "cell_type": "code",
   "execution_count": 10,
   "id": "1005b8ae",
   "metadata": {},
   "outputs": [
    {
     "name": "stdout",
     "output_type": "stream",
     "text": [
      "[[0 1 0 1 0 0 0 0 1]]\n"
     ]
    }
   ],
   "source": [
    "print(vect.transform([\"Germany has German Shepherd\"]).toarray())"
   ]
  },
  {
   "cell_type": "code",
   "execution_count": 11,
   "id": "23afba7c",
   "metadata": {},
   "outputs": [],
   "source": [
    "from sklearn.metrics.pairwise import cosine_similarity\n",
    "similarity = cosine_similarity(vect.transform([\"Germany has German Shepherd\"]).toarray(), vect.transform([\"Germany has Berlin as its capital\"]).toarray())"
   ]
  },
  {
   "cell_type": "code",
   "execution_count": 12,
   "id": "c6453009",
   "metadata": {},
   "outputs": [
    {
     "name": "stdout",
     "output_type": "stream",
     "text": [
      "[[0.57735027]]\n"
     ]
    }
   ],
   "source": [
    "print(similarity)"
   ]
  },
  {
   "cell_type": "code",
   "execution_count": 13,
   "id": "b12508b1",
   "metadata": {},
   "outputs": [],
   "source": [
    "#create a corpus of 3-4 articles of any writer, vectorize it\n",
    "#next find the similarity bw last and second last article\n",
    "#if the similarity is less than 50% he still is a creative writer"
   ]
  },
  {
   "cell_type": "code",
   "execution_count": 14,
   "id": "b128ac8e",
   "metadata": {},
   "outputs": [],
   "source": [
    "#time to finish it is till mon morning 6am\n",
    "#as soon as u finish it send the link and the ss of it to her teams"
   ]
  },
  {
   "cell_type": "code",
   "execution_count": 16,
   "id": "f974f378",
   "metadata": {},
   "outputs": [],
   "source": [
    "article_corpus = [\"This blog provides general Common Code Remediation while migrating from XS Classic(XSC) to XS Advanced(XSA) environment using the XSA tool. The same are also applicable as concepts for manually migrating from an on-premise database to the  SAP HANA cloud. You have already started the various available paths for migrating the objects and you have enough reason and know the process step by step to do the migration manually using different methods.\", \"Direct flights from Pune to SingaporeTravellers can now fly directly between Pune and Singapore starting December 2, courtesy Vistara which will kick off three to four flights every week. International connections from Pune are rare (right now, Dubai is the sole one); visitors normally rely on Mumbai airport for the same.\", \"September inauguration for Goa’s next airportTravel to Goa could witness a cascading effect after September 2022 when Mopa international airport, the state’s second such airport after the one in Dabolim, finally opens to tourists.\", \"Schengen visa process to go digitalIn a bid to ease paperwork for millions of tourists, the EU has proposed to make the Schengen visa process an online application system in the next few years. The Schengen visa allows travellers to visit and travel across 26 EU member nations for up to 90 days.\", \"Suba aluth auwrudh dhak vewa. Puthandu vazhthukal. These are the Sinhalese and Tamil New Year greetings. ‘Aluth Avurudda’ is a festive day in Sri Lanka and I am wondering how I can recreate some elements of it being under the lockdown this year. The new year marks a new phase in the zodiac calendar with the sun moving from Meena (Pisces) to Mesha (Aries) in April.\"]"
   ]
  },
  {
   "cell_type": "code",
   "execution_count": 17,
   "id": "7a56b1b9",
   "metadata": {},
   "outputs": [
    {
     "data": {
      "text/html": [
       "<style>#sk-container-id-2 {color: black;background-color: white;}#sk-container-id-2 pre{padding: 0;}#sk-container-id-2 div.sk-toggleable {background-color: white;}#sk-container-id-2 label.sk-toggleable__label {cursor: pointer;display: block;width: 100%;margin-bottom: 0;padding: 0.3em;box-sizing: border-box;text-align: center;}#sk-container-id-2 label.sk-toggleable__label-arrow:before {content: \"▸\";float: left;margin-right: 0.25em;color: #696969;}#sk-container-id-2 label.sk-toggleable__label-arrow:hover:before {color: black;}#sk-container-id-2 div.sk-estimator:hover label.sk-toggleable__label-arrow:before {color: black;}#sk-container-id-2 div.sk-toggleable__content {max-height: 0;max-width: 0;overflow: hidden;text-align: left;background-color: #f0f8ff;}#sk-container-id-2 div.sk-toggleable__content pre {margin: 0.2em;color: black;border-radius: 0.25em;background-color: #f0f8ff;}#sk-container-id-2 input.sk-toggleable__control:checked~div.sk-toggleable__content {max-height: 200px;max-width: 100%;overflow: auto;}#sk-container-id-2 input.sk-toggleable__control:checked~label.sk-toggleable__label-arrow:before {content: \"▾\";}#sk-container-id-2 div.sk-estimator input.sk-toggleable__control:checked~label.sk-toggleable__label {background-color: #d4ebff;}#sk-container-id-2 div.sk-label input.sk-toggleable__control:checked~label.sk-toggleable__label {background-color: #d4ebff;}#sk-container-id-2 input.sk-hidden--visually {border: 0;clip: rect(1px 1px 1px 1px);clip: rect(1px, 1px, 1px, 1px);height: 1px;margin: -1px;overflow: hidden;padding: 0;position: absolute;width: 1px;}#sk-container-id-2 div.sk-estimator {font-family: monospace;background-color: #f0f8ff;border: 1px dotted black;border-radius: 0.25em;box-sizing: border-box;margin-bottom: 0.5em;}#sk-container-id-2 div.sk-estimator:hover {background-color: #d4ebff;}#sk-container-id-2 div.sk-parallel-item::after {content: \"\";width: 100%;border-bottom: 1px solid gray;flex-grow: 1;}#sk-container-id-2 div.sk-label:hover label.sk-toggleable__label {background-color: #d4ebff;}#sk-container-id-2 div.sk-serial::before {content: \"\";position: absolute;border-left: 1px solid gray;box-sizing: border-box;top: 0;bottom: 0;left: 50%;z-index: 0;}#sk-container-id-2 div.sk-serial {display: flex;flex-direction: column;align-items: center;background-color: white;padding-right: 0.2em;padding-left: 0.2em;position: relative;}#sk-container-id-2 div.sk-item {position: relative;z-index: 1;}#sk-container-id-2 div.sk-parallel {display: flex;align-items: stretch;justify-content: center;background-color: white;position: relative;}#sk-container-id-2 div.sk-item::before, #sk-container-id-2 div.sk-parallel-item::before {content: \"\";position: absolute;border-left: 1px solid gray;box-sizing: border-box;top: 0;bottom: 0;left: 50%;z-index: -1;}#sk-container-id-2 div.sk-parallel-item {display: flex;flex-direction: column;z-index: 1;position: relative;background-color: white;}#sk-container-id-2 div.sk-parallel-item:first-child::after {align-self: flex-end;width: 50%;}#sk-container-id-2 div.sk-parallel-item:last-child::after {align-self: flex-start;width: 50%;}#sk-container-id-2 div.sk-parallel-item:only-child::after {width: 0;}#sk-container-id-2 div.sk-dashed-wrapped {border: 1px dashed gray;margin: 0 0.4em 0.5em 0.4em;box-sizing: border-box;padding-bottom: 0.4em;background-color: white;}#sk-container-id-2 div.sk-label label {font-family: monospace;font-weight: bold;display: inline-block;line-height: 1.2em;}#sk-container-id-2 div.sk-label-container {text-align: center;}#sk-container-id-2 div.sk-container {/* jupyter's `normalize.less` sets `[hidden] { display: none; }` but bootstrap.min.css set `[hidden] { display: none !important; }` so we also need the `!important` here to be able to override the default hidden behavior on the sphinx rendered scikit-learn.org. See: https://github.com/scikit-learn/scikit-learn/issues/21755 */display: inline-block !important;position: relative;}#sk-container-id-2 div.sk-text-repr-fallback {display: none;}</style><div id=\"sk-container-id-2\" class=\"sk-top-container\"><div class=\"sk-text-repr-fallback\"><pre>CountVectorizer(binary=True)</pre><b>In a Jupyter environment, please rerun this cell to show the HTML representation or trust the notebook. <br />On GitHub, the HTML representation is unable to render, please try loading this page with nbviewer.org.</b></div><div class=\"sk-container\" hidden><div class=\"sk-item\"><div class=\"sk-estimator sk-toggleable\"><input class=\"sk-toggleable__control sk-hidden--visually\" id=\"sk-estimator-id-2\" type=\"checkbox\" checked><label for=\"sk-estimator-id-2\" class=\"sk-toggleable__label sk-toggleable__label-arrow\">CountVectorizer</label><div class=\"sk-toggleable__content\"><pre>CountVectorizer(binary=True)</pre></div></div></div></div></div>"
      ],
      "text/plain": [
       "CountVectorizer(binary=True)"
      ]
     },
     "execution_count": 17,
     "metadata": {},
     "output_type": "execute_result"
    }
   ],
   "source": [
    "vect.fit(article_corpus)"
   ]
  },
  {
   "cell_type": "code",
   "execution_count": 18,
   "id": "3c004451",
   "metadata": {},
   "outputs": [
    {
     "name": "stdout",
     "output_type": "stream",
     "text": [
      "this : 147\n",
      "blog : 27\n",
      "provides : 116\n",
      "general : 67\n",
      "common : 35\n",
      "code : 34\n",
      "remediation : 123\n",
      "while : 167\n",
      "migrating : 91\n",
      "from : 66\n",
      "xs : 172\n",
      "classic : 32\n",
      "xsc : 174\n",
      "to : 149\n",
      "advanced : 4\n",
      "xsa : 173\n",
      "environment : 56\n",
      "using : 156\n",
      "the : 145\n",
      "tool : 150\n",
      "same : 125\n",
      "are : 18\n",
      "also : 10\n",
      "applicable : 15\n",
      "as : 20\n",
      "concepts : 36\n",
      "for : 64\n",
      "manually : 85\n",
      "an : 13\n",
      "on : 105\n",
      "premise : 113\n",
      "database : 41\n",
      "sap : 126\n",
      "hana : 71\n",
      "cloud : 33\n",
      "you : 177\n",
      "have : 73\n",
      "already : 9\n",
      "started : 136\n",
      "various : 157\n",
      "available : 22\n",
      "paths : 110\n",
      "objects : 102\n",
      "and : 14\n",
      "enough : 55\n",
      "reason : 120\n",
      "know : 81\n",
      "process : 114\n",
      "step : 139\n",
      "by : 28\n",
      "do : 50\n",
      "migration : 92\n",
      "different : 46\n",
      "methods : 90\n",
      "direct : 48\n",
      "flights : 62\n",
      "pune : 117\n",
      "singaporetravellers : 131\n",
      "can : 30\n",
      "now : 101\n",
      "fly : 63\n",
      "directly : 49\n",
      "between : 25\n",
      "singapore : 130\n",
      "starting : 137\n",
      "december : 44\n",
      "courtesy : 39\n",
      "vistara : 163\n",
      "which : 166\n",
      "will : 168\n",
      "kick : 80\n",
      "off : 104\n",
      "three : 148\n",
      "four : 65\n",
      "every : 58\n",
      "week : 164\n",
      "international : 77\n",
      "connections : 37\n",
      "rare : 119\n",
      "right : 124\n",
      "dubai : 51\n",
      "is : 78\n",
      "sole : 133\n",
      "one : 106\n",
      "visitors : 162\n",
      "normally : 100\n",
      "rely : 122\n",
      "mumbai : 96\n",
      "airport : 6\n",
      "september : 129\n",
      "inauguration : 76\n",
      "goa : 69\n",
      "next : 99\n",
      "airporttravel : 7\n",
      "could : 38\n",
      "witness : 170\n",
      "cascading : 31\n",
      "effect : 53\n",
      "after : 5\n",
      "2022 : 0\n",
      "when : 165\n",
      "mopa : 94\n",
      "state : 138\n",
      "second : 128\n",
      "such : 141\n",
      "in : 75\n",
      "dabolim : 40\n",
      "finally : 61\n",
      "opens : 108\n",
      "tourists : 151\n",
      "schengen : 127\n",
      "visa : 160\n",
      "go : 68\n",
      "digitalin : 47\n",
      "bid : 26\n",
      "ease : 52\n",
      "paperwork : 109\n",
      "millions : 93\n",
      "of : 103\n",
      "eu : 57\n",
      "has : 72\n",
      "proposed : 115\n",
      "make : 84\n",
      "online : 107\n",
      "application : 16\n",
      "system : 143\n",
      "few : 60\n",
      "years : 176\n",
      "allows : 8\n",
      "travellers : 153\n",
      "visit : 161\n",
      "travel : 152\n",
      "across : 3\n",
      "26 : 1\n",
      "member : 88\n",
      "nations : 97\n",
      "up : 155\n",
      "90 : 2\n",
      "days : 43\n",
      "suba : 140\n",
      "aluth : 11\n",
      "auwrudh : 21\n",
      "dhak : 45\n",
      "vewa : 159\n",
      "puthandu : 118\n",
      "vazhthukal : 158\n",
      "these : 146\n",
      "sinhalese : 132\n",
      "tamil : 144\n",
      "new : 98\n",
      "year : 175\n",
      "greetings : 70\n",
      "avurudda : 23\n",
      "festive : 59\n",
      "day : 42\n",
      "sri : 135\n",
      "lanka : 82\n",
      "am : 12\n",
      "wondering : 171\n",
      "how : 74\n",
      "recreate : 121\n",
      "some : 134\n",
      "elements : 54\n",
      "it : 79\n",
      "being : 24\n",
      "under : 154\n",
      "lockdown : 83\n",
      "marks : 86\n",
      "phase : 111\n",
      "zodiac : 178\n",
      "calendar : 29\n",
      "with : 169\n",
      "sun : 142\n",
      "moving : 95\n",
      "meena : 87\n",
      "pisces : 112\n",
      "mesha : 89\n",
      "aries : 19\n",
      "april : 17\n"
     ]
    }
   ],
   "source": [
    "vocab = vect.vocabulary_\n",
    "for key in vocab.keys():\n",
    "    print(\"{} : {}\".format(key, vocab[key]))"
   ]
  },
  {
   "cell_type": "code",
   "execution_count": 19,
   "id": "7055e8e4",
   "metadata": {},
   "outputs": [],
   "source": [
    "from sklearn.metrics.pairwise import cosine_similarity\n",
    "similarity = cosine_similarity(vect.transform([\"Schengen visa process to go digitalIn a bid to ease paperwork for millions of tourists, the EU has proposed to make the Schengen visa process an online application system in the next few years. The Schengen visa allows travellers to visit and travel across 26 EU member nations for up to 90 days.\"]).toarray(), vect.transform([\"Suba aluth auwrudh dhak vewa. Puthandu vazhthukal. These are the Sinhalese and Tamil New Year greetings. ‘Aluth Avurudda’ is a festive day in Sri Lanka and I am wondering how I can recreate some elements of it being under the lockdown this year. The new year marks a new phase in the zodiac calendar with the sun moving from Meena (Pisces) to Mesha (Aries) in April.\"]).toarray())"
   ]
  },
  {
   "cell_type": "code",
   "execution_count": 20,
   "id": "6fa53a19",
   "metadata": {},
   "outputs": [
    {
     "name": "stdout",
     "output_type": "stream",
     "text": [
      "[[0.11470787]]\n"
     ]
    }
   ],
   "source": [
    "print(similarity)"
   ]
  },
  {
   "cell_type": "code",
   "execution_count": null,
   "id": "cd75290c",
   "metadata": {},
   "outputs": [],
   "source": []
  }
 ],
 "metadata": {
  "kernelspec": {
   "display_name": "Python 3 (ipykernel)",
   "language": "python",
   "name": "python3"
  },
  "language_info": {
   "codemirror_mode": {
    "name": "ipython",
    "version": 3
   },
   "file_extension": ".py",
   "mimetype": "text/x-python",
   "name": "python",
   "nbconvert_exporter": "python",
   "pygments_lexer": "ipython3",
   "version": "3.8.8"
  }
 },
 "nbformat": 4,
 "nbformat_minor": 5
}
